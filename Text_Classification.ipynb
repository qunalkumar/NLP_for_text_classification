{
 "cells": [
  {
   "cell_type": "code",
   "execution_count": 10,
   "metadata": {},
   "outputs": [
    {
     "name": "stdout",
     "output_type": "stream",
     "text": [
      "Python: 3.7.1 (default, Dec 10 2018, 22:54:23) [MSC v.1915 64 bit (AMD64)]\n",
      "NLTK: 3.4\n",
      "Scikit-learn: 0.20.1\n",
      "Pandas: 0.23.4\n",
      "Numpy: 1.15.4\n"
     ]
    }
   ],
   "source": [
    "#1\n",
    "import sys\n",
    "import nltk\n",
    "import sklearn\n",
    "import numpy\n",
    "import pandas\n",
    "\n",
    "print('Python: {}'.format(sys.version))\n",
    "print('NLTK: {}'.format(nltk.__version__))\n",
    "print('Scikit-learn: {}'.format(sklearn.__version__))\n",
    "print('Pandas: {}'.format(pandas.__version__))\n",
    "print('Numpy: {}'.format(numpy.__version__))"
   ]
  },
  {
   "cell_type": "markdown",
   "metadata": {},
   "source": [
    "## 1. Load the Dataset"
   ]
  },
  {
   "cell_type": "code",
   "execution_count": 11,
   "metadata": {},
   "outputs": [],
   "source": [
    "#2\n",
    "import pandas as pd\n",
    "import numpy as np\n",
    "# load the dataset of sms messages\n",
    "df=pd.read_table('SMSSpamCollection',header=None , encoding='utf-8')\n"
   ]
  },
  {
   "cell_type": "code",
   "execution_count": 12,
   "metadata": {},
   "outputs": [
    {
     "name": "stdout",
     "output_type": "stream",
     "text": [
      "<class 'pandas.core.frame.DataFrame'>\n",
      "RangeIndex: 5572 entries, 0 to 5571\n",
      "Data columns (total 2 columns):\n",
      "0    5572 non-null object\n",
      "1    5572 non-null object\n",
      "dtypes: object(2)\n",
      "memory usage: 87.1+ KB\n",
      "None\n",
      "      0                                                  1\n",
      "0   ham  Go until jurong point, crazy.. Available only ...\n",
      "1   ham                      Ok lar... Joking wif u oni...\n",
      "2  spam  Free entry in 2 a wkly comp to win FA Cup fina...\n",
      "3   ham  U dun say so early hor... U c already then say...\n",
      "4   ham  Nah I don't think he goes to usf, he lives aro...\n"
     ]
    }
   ],
   "source": [
    "#3\n",
    "# print useful information about data set\n",
    "print(df.info())\n",
    "print(df.head())\n"
   ]
  },
  {
   "cell_type": "code",
   "execution_count": 13,
   "metadata": {},
   "outputs": [
    {
     "name": "stdout",
     "output_type": "stream",
     "text": [
      "ham     4825\n",
      "spam     747\n",
      "Name: 0, dtype: int64\n"
     ]
    }
   ],
   "source": [
    "#4\n",
    "# check class distribution\n",
    "classes=df[0]\n",
    "print(classes.value_counts())\n"
   ]
  },
  {
   "cell_type": "markdown",
   "metadata": {},
   "source": [
    "## 2. Preprocess the Data"
   ]
  },
  {
   "cell_type": "code",
   "execution_count": 14,
   "metadata": {},
   "outputs": [
    {
     "name": "stdout",
     "output_type": "stream",
     "text": [
      "0     ham\n",
      "1     ham\n",
      "2    spam\n",
      "3     ham\n",
      "4     ham\n",
      "5    spam\n",
      "6     ham\n",
      "7     ham\n",
      "8    spam\n",
      "9    spam\n",
      "Name: 0, dtype: object\n",
      "[0 0 1 0 0 1 0 0 1 1]\n"
     ]
    }
   ],
   "source": [
    "#5\n",
    "# convert class labels to binary values , 0=ham , 1=spam\n",
    "from sklearn.preprocessing import LabelEncoder\n",
    "encoder = LabelEncoder()\n",
    "Y = encoder.fit_transform(classes)\n",
    "print(classes[:10])\n",
    "print(Y[:10])\n"
   ]
  },
  {
   "cell_type": "code",
   "execution_count": 15,
   "metadata": {},
   "outputs": [
    {
     "name": "stdout",
     "output_type": "stream",
     "text": [
      "0    Go until jurong point, crazy.. Available only ...\n",
      "1                        Ok lar... Joking wif u oni...\n",
      "2    Free entry in 2 a wkly comp to win FA Cup fina...\n",
      "3    U dun say so early hor... U c already then say...\n",
      "4    Nah I don't think he goes to usf, he lives aro...\n",
      "5    FreeMsg Hey there darling it's been 3 week's n...\n",
      "6    Even my brother is not like to speak with me. ...\n",
      "7    As per your request 'Melle Melle (Oru Minnamin...\n",
      "8    WINNER!! As a valued network customer you have...\n",
      "9    Had your mobile 11 months or more? U R entitle...\n",
      "Name: 1, dtype: object\n"
     ]
    }
   ],
   "source": [
    "#6\n",
    "# store the SMS message data\n",
    "text_messages=df[1]\n",
    "print(text_messages[:10])"
   ]
  },
  {
   "cell_type": "code",
   "execution_count": 16,
   "metadata": {},
   "outputs": [],
   "source": [
    "#7\n",
    "# use regular expression to replace email address , phone numbers , url, other number, symbols\n",
    "# replace email address with 'emailaddr'\n",
    "processed = text_messages.str.replace(r'^.+@[^\\.].*\\.[a-z]{2,}$','emailaddr')\n",
    "\n",
    "# replace urls with 'webaddress'\n",
    "processed = processed.str.replace(r'^http\\://[a-zA-Z0-9\\-\\.]+\\.[a-zA-Z]{2,3}(/\\S*)?$','webaddress')\n",
    "\n",
    "# replace money symbols with 'moneysymb'\n",
    "processed = processed.str.replace(r'£|\\$','moneysymb')\n",
    "\n",
    "# replace 10 digit phone number with 'phonenumber'\n",
    "processed = processed.str.replace(r'^\\(?[\\d]{3}\\)?[\\s-]?[\\d]{3}[\\s-]?[\\d]{4}$','phonenumber')\n",
    "\n",
    "# replace normal number with 'numbr'\n",
    "processed = processed.str.replace(r'\\d+(\\.\\d+)?','numbr')"
   ]
  },
  {
   "cell_type": "code",
   "execution_count": 17,
   "metadata": {},
   "outputs": [],
   "source": [
    "#8\n",
    "# remove punctuation\n",
    "processed = processed.str.replace(r'[^\\w\\d\\s]',' ')\n",
    "\n",
    "# replace whitespace between terms with a single space\n",
    "processed = processed.str.replace(r'\\s+',' ')\n",
    "\n",
    "# remove leading and trailing whitespace\n",
    "processed = processed.str.replace(r'^\\s+|\\s+?$', '')"
   ]
  },
  {
   "cell_type": "code",
   "execution_count": 18,
   "metadata": {},
   "outputs": [
    {
     "name": "stdout",
     "output_type": "stream",
     "text": [
      "0       go until jurong point crazy available only in ...\n",
      "1                                 ok lar joking wif u oni\n",
      "2       free entry in numbr a wkly comp to win fa cup ...\n",
      "3             u dun say so early hor u c already then say\n",
      "4       nah i don t think he goes to usf he lives arou...\n",
      "5       freemsg hey there darling it s been numbr week...\n",
      "6       even my brother is not like to speak with me t...\n",
      "7       as per your request melle melle oru minnaminun...\n",
      "8       winner as a valued network customer you have b...\n",
      "9       had your mobile numbr months or more u r entit...\n",
      "10      i m gonna be home soon and i don t want to tal...\n",
      "11      six chances to win cash from numbr to numbr nu...\n",
      "12      urgent you have won a numbr week free membersh...\n",
      "13      i ve been searching for the right words to tha...\n",
      "14                      i have a date on sunday with will\n",
      "15      xxxmobilemovieclub to use your credit click th...\n",
      "16                                 oh k i m watching here\n",
      "17      eh u remember how numbr spell his name yes i d...\n",
      "18      fine if that s the way u feel that s the way i...\n",
      "19      england v macedonia dont miss the goals team n...\n",
      "20               is that seriously how you spell his name\n",
      "21      i m going to try for numbr months ha ha only j...\n",
      "22         so ü pay first lar then when is da stock comin\n",
      "23      aft i finish my lunch then i go str down lor a...\n",
      "24      ffffffffff alright no way i can meet up with y...\n",
      "25      just forced myself to eat a slice i m really n...\n",
      "26                          lol your always so convincing\n",
      "27      did you catch the bus are you frying an egg di...\n",
      "28      i m back amp we re packing the car now i ll le...\n",
      "29      ahhh work i vaguely remember that what does it...\n",
      "                              ...                        \n",
      "5542             armand says get your ass over to epsilon\n",
      "5543                u still havent got urself a jacket ah\n",
      "5544    i m taking derek amp taylor to walmart if i m ...\n",
      "5545        hi its in durban are you still on this number\n",
      "5546             ic there are a lotta childporn cars then\n",
      "5547    had your contract mobile numbr mnths latest mo...\n",
      "5548                     no i was trying it all weekend v\n",
      "5549    you know wot people wear t shirts jumpers hat ...\n",
      "5550            cool what time you think you can get here\n",
      "5551    wen did you get so spiritual and deep that s g...\n",
      "5552    have a safe trip to nigeria wish you happiness...\n",
      "5553                           hahaha use your brain dear\n",
      "5554    well keep in mind i ve only got enough gas for...\n",
      "5555    yeh indians was nice tho it did kane me off a ...\n",
      "5556    yes i have so that s why u texted pshew missin...\n",
      "5557    no i meant the calculation is the same that lt...\n",
      "5558                                sorry i ll call later\n",
      "5559    if you aren t here in the next lt gt hours imm...\n",
      "5560                      anything lor juz both of us lor\n",
      "5561    get me out of this dump heap my mom decided to...\n",
      "5562    ok lor sony ericsson salesman i ask shuhui the...\n",
      "5563                               ard numbr like dat lor\n",
      "5564    why don t you wait til at least wednesday to s...\n",
      "5565                                            huh y lei\n",
      "5566    reminder from onumbr to get numbr pounds free ...\n",
      "5567    this is the numbrnd time we have tried numbr c...\n",
      "5568                  will ü b going to esplanade fr home\n",
      "5569    pity was in mood for that so any other suggest...\n",
      "5570    the guy did some bitching but i acted like i d...\n",
      "5571                            rofl its true to its name\n",
      "Name: 1, Length: 5572, dtype: object\n"
     ]
    }
   ],
   "source": [
    "#9\n",
    "# change words to lowercase - Hello,HELLO,hello are all same words\n",
    "processed = processed.str.lower()\n",
    "print(processed)"
   ]
  },
  {
   "cell_type": "code",
   "execution_count": 19,
   "metadata": {},
   "outputs": [],
   "source": [
    "#10\n",
    "# remove stop words from text messages\n",
    "from nltk.corpus import stopwords\n",
    "stop_words = set(stopwords.words('english'))\n",
    "processed = processed.apply(lambda x: ' '.join(term for term in x.split() if term not in stop_words))"
   ]
  },
  {
   "cell_type": "code",
   "execution_count": 20,
   "metadata": {},
   "outputs": [],
   "source": [
    "#11\n",
    "# remove word stem using porter stemmer\n",
    "ps = nltk.PorterStemmer()\n",
    "\n",
    "processed = processed.apply(lambda x: ' '.join(ps.stem(term) for term in x.split()))"
   ]
  },
  {
   "cell_type": "code",
   "execution_count": 21,
   "metadata": {},
   "outputs": [
    {
     "name": "stdout",
     "output_type": "stream",
     "text": [
      "0       go jurong point crazi avail bugi n great world...\n",
      "1                                   ok lar joke wif u oni\n",
      "2       free entri numbr wkli comp win fa cup final tk...\n",
      "3                     u dun say earli hor u c alreadi say\n",
      "4                    nah think goe usf live around though\n",
      "5       freemsg hey darl numbr week word back like fun...\n",
      "6           even brother like speak treat like aid patent\n",
      "7       per request mell mell oru minnaminungint nurun...\n",
      "8       winner valu network custom select receivea mon...\n",
      "9       mobil numbr month u r entitl updat latest colo...\n",
      "10      gonna home soon want talk stuff anymor tonight...\n",
      "11      six chanc win cash numbr numbr numbr pound txt...\n",
      "12      urgent numbr week free membership moneysymbnum...\n",
      "13      search right word thank breather promis wont t...\n",
      "14                                            date sunday\n",
      "15      xxxmobilemovieclub use credit click wap link n...\n",
      "16                                             oh k watch\n",
      "17      eh u rememb numbr spell name ye v naughti make...\n",
      "18                             fine way u feel way gota b\n",
      "19      england v macedonia dont miss goal team news t...\n",
      "20                                     serious spell name\n",
      "21                          go tri numbr month ha ha joke\n",
      "22                         ü pay first lar da stock comin\n",
      "23      aft finish lunch go str lor ard numbr smth lor...\n",
      "24                     ffffffffff alright way meet sooner\n",
      "25      forc eat slice realli hungri tho suck mark get...\n",
      "26                                      lol alway convinc\n",
      "27      catch bu fri egg make tea eat mom left dinner ...\n",
      "28                        back amp pack car let know room\n",
      "29                    ahhh work vagu rememb feel like lol\n",
      "                              ...                        \n",
      "5542                           armand say get ass epsilon\n",
      "5543                  u still havent got urself jacket ah\n",
      "5544    take derek amp taylor walmart back time done l...\n",
      "5545                               hi durban still number\n",
      "5546                               ic lotta childporn car\n",
      "5547    contract mobil numbr mnth latest motorola noki...\n",
      "5548                                        tri weekend v\n",
      "5549    know wot peopl wear shirt jumper hat belt know...\n",
      "5550                                  cool time think get\n",
      "5551                           wen get spiritu deep great\n",
      "5552    safe trip nigeria wish happi soon compani shar...\n",
      "5553                                hahaha use brain dear\n",
      "5554    well keep mind got enough ga one round trip ba...\n",
      "5555    yeh indian nice tho kane bit shud go numbr dri...\n",
      "5556                            ye u text pshew miss much\n",
      "5557    meant calcul lt gt unit lt gt school realli ex...\n",
      "5558                                     sorri call later\n",
      "5559                       next lt gt hour imma flip shit\n",
      "5560                                 anyth lor juz us lor\n",
      "5561                get dump heap mom decid come low bore\n",
      "5562    ok lor soni ericsson salesman ask shuhui say q...\n",
      "5563                               ard numbr like dat lor\n",
      "5564                     wait til least wednesday see get\n",
      "5565                                              huh lei\n",
      "5566    remind onumbr get numbr pound free call credit...\n",
      "5567    numbrnd time tri numbr contact u u moneysymbnu...\n",
      "5568                              ü b go esplanad fr home\n",
      "5569                                    piti mood suggest\n",
      "5570    guy bitch act like interest buy someth els nex...\n",
      "5571                                       rofl true name\n",
      "Name: 1, Length: 5572, dtype: object\n"
     ]
    }
   ],
   "source": [
    "#12\n",
    "print(processed)"
   ]
  },
  {
   "cell_type": "code",
   "execution_count": 22,
   "metadata": {},
   "outputs": [],
   "source": [
    "#13\n",
    "from nltk.tokenize import word_tokenize\n",
    "\n",
    "# creating a bag-of-words\n",
    "all_words = []\n",
    "\n",
    "for message in processed:\n",
    "    words = word_tokenize(message)\n",
    "    for w in words:\n",
    "        all_words.append(w)\n",
    "        \n",
    "all_words = nltk.FreqDist(all_words)"
   ]
  },
  {
   "cell_type": "code",
   "execution_count": 23,
   "metadata": {},
   "outputs": [
    {
     "name": "stdout",
     "output_type": "stream",
     "text": [
      "number of words: 6579\n",
      "most common words: [('numbr', 2648), ('u', 1207), ('call', 674), ('go', 456), ('get', 451), ('ur', 391), ('gt', 318), ('lt', 316), ('come', 304), ('moneysymbnumbr', 303), ('ok', 293), ('free', 284), ('day', 276), ('know', 275), ('love', 266)]\n"
     ]
    }
   ],
   "source": [
    "#14\n",
    "# print total number words and 15 most common words\n",
    "print('number of words: {}'.format(len(all_words)))\n",
    "print('most common words: {}'.format(all_words.most_common(15)))"
   ]
  },
  {
   "cell_type": "code",
   "execution_count": 24,
   "metadata": {},
   "outputs": [],
   "source": [
    "#15\n",
    "# use 1500 most common words as features\n",
    "word_features = list(all_words.keys())[:1500]"
   ]
  },
  {
   "cell_type": "code",
   "execution_count": 25,
   "metadata": {},
   "outputs": [
    {
     "name": "stdout",
     "output_type": "stream",
     "text": [
      "go\n",
      "jurong\n",
      "point\n",
      "crazi\n",
      "avail\n",
      "bugi\n",
      "n\n",
      "great\n",
      "world\n",
      "la\n",
      "e\n",
      "buffet\n",
      "cine\n",
      "got\n",
      "amor\n",
      "wat\n"
     ]
    }
   ],
   "source": [
    "#16\n",
    "# define a find_features function\n",
    "\n",
    "def find_features(message):\n",
    "    words = word_tokenize(message)\n",
    "    features = {}\n",
    "    for word in word_features:\n",
    "        features[word] = (word in words)\n",
    "        \n",
    "    return features\n",
    "\n",
    "# lets see an example\n",
    "features = find_features(processed[0])\n",
    "for key,value in features.items():\n",
    "    if value == True:\n",
    "        print(key)"
   ]
  },
  {
   "cell_type": "code",
   "execution_count": 26,
   "metadata": {},
   "outputs": [],
   "source": [
    "#17\n",
    "# find features for all messages\n",
    "messages = list(zip(processed , Y))\n",
    "\n",
    "# define a seed for reproducibility\n",
    "seed = 1\n",
    "np.random.seed = seed\n",
    "np.random.shuffle(messages)\n",
    "\n",
    "# call find_features function for each SMS messages\n",
    "featuresets = [(find_features(text), label) for (text,label) in messages]"
   ]
  },
  {
   "cell_type": "code",
   "execution_count": 27,
   "metadata": {},
   "outputs": [],
   "source": [
    "#18\n",
    "# split training and testion data sets using sklearn\n",
    "from sklearn import model_selection\n",
    "training, testing = model_selection.train_test_split(featuresets, test_size = 0.25 , random_state = seed)"
   ]
  },
  {
   "cell_type": "code",
   "execution_count": 28,
   "metadata": {},
   "outputs": [
    {
     "name": "stdout",
     "output_type": "stream",
     "text": [
      "training : 4179\n",
      "testing : 1393\n"
     ]
    }
   ],
   "source": [
    "#19\n",
    "print('training : {}'.format(len(training)))\n",
    "print('testing : {}'.format(len(testing)))"
   ]
  },
  {
   "cell_type": "markdown",
   "metadata": {},
   "source": [
    "## 3. scikit-learn classifiers with NLTK"
   ]
  },
  {
   "cell_type": "code",
   "execution_count": 29,
   "metadata": {},
   "outputs": [],
   "source": [
    "#20\n",
    "from sklearn.neighbors import KNeighborsClassifier\n",
    "from sklearn.tree import DecisionTreeClassifier\n",
    "from sklearn.ensemble import RandomForestClassifier\n",
    "from sklearn.linear_model import LogisticRegression , SGDClassifier\n",
    "from sklearn.naive_bayes import MultinomialNB\n",
    "from sklearn.svm import SVC\n",
    "from sklearn.metrics import classification_report , accuracy_score , confusion_matrix"
   ]
  },
  {
   "cell_type": "code",
   "execution_count": 30,
   "metadata": {},
   "outputs": [],
   "source": [
    "#21\n",
    "# define models to train\n",
    "names = ['K Nearest Neighbors','Decision Tree','Random Forest','Logistic Regression','SGD Classifier','Naive Bayes','SVM Linear']\n",
    "\n",
    "#initialize our classifiers\n",
    "classifiers = [\n",
    "    KNeighborsClassifier(),\n",
    "    DecisionTreeClassifier(),\n",
    "    RandomForestClassifier(),\n",
    "    LogisticRegression(),\n",
    "    SGDClassifier(max_iter = 100),\n",
    "    MultinomialNB(),\n",
    "    SVC(kernel = 'linear')\n",
    "]\n",
    "\n",
    "models = zip(names,classifiers)\n"
   ]
  },
  {
   "cell_type": "code",
   "execution_count": 31,
   "metadata": {},
   "outputs": [
    {
     "name": "stdout",
     "output_type": "stream",
     "text": [
      "K Nearest Neighbors: Accuracy: 94.18521177315147\n",
      "Decision Tree: Accuracy: 97.48743718592965\n"
     ]
    },
    {
     "name": "stderr",
     "output_type": "stream",
     "text": [
      "C:\\Users\\Kunal\\Anaconda3\\lib\\site-packages\\sklearn\\ensemble\\forest.py:246: FutureWarning: The default value of n_estimators will change from 10 in version 0.20 to 100 in 0.22.\n",
      "  \"10 in version 0.20 to 100 in 0.22.\", FutureWarning)\n"
     ]
    },
    {
     "name": "stdout",
     "output_type": "stream",
     "text": [
      "Random Forest: Accuracy: 98.63603732950466\n"
     ]
    },
    {
     "name": "stderr",
     "output_type": "stream",
     "text": [
      "C:\\Users\\Kunal\\Anaconda3\\lib\\site-packages\\sklearn\\linear_model\\logistic.py:433: FutureWarning: Default solver will be changed to 'lbfgs' in 0.22. Specify a solver to silence this warning.\n",
      "  FutureWarning)\n"
     ]
    },
    {
     "name": "stdout",
     "output_type": "stream",
     "text": [
      "Logistic Regression: Accuracy: 98.34888729361091\n"
     ]
    },
    {
     "name": "stderr",
     "output_type": "stream",
     "text": [
      "C:\\Users\\Kunal\\Anaconda3\\lib\\site-packages\\sklearn\\linear_model\\stochastic_gradient.py:183: FutureWarning: max_iter and tol parameters have been added in SGDClassifier in 0.19. If max_iter is set but tol is left unset, the default value for tol in 0.19 and 0.20 will be None (which is equivalent to -infinity, so it has no effect) but will change in 0.21 to 1e-3. Specify tol to silence this warning.\n",
      "  FutureWarning)\n"
     ]
    },
    {
     "name": "stdout",
     "output_type": "stream",
     "text": [
      "SGD Classifier: Accuracy: 98.06173725771716\n",
      "Naive Bayes: Accuracy: 98.56424982053123\n",
      "SVM Linear: Accuracy: 98.42067480258436\n"
     ]
    }
   ],
   "source": [
    "#22\n",
    "# wrap models in nltk\n",
    "from nltk.classify.scikitlearn import SklearnClassifier\n",
    "\n",
    "for name,model in models:\n",
    "    nltk_model = SklearnClassifier(model)\n",
    "    nltk_model.train(training)\n",
    "    accuracy = nltk.classify.accuracy(nltk_model,testing)*100\n",
    "    print('{}: Accuracy: {}'.format(name , accuracy))"
   ]
  },
  {
   "cell_type": "code",
   "execution_count": 35,
   "metadata": {},
   "outputs": [
    {
     "name": "stdout",
     "output_type": "stream",
     "text": [
      "Ensemble Accuracy: 98.42067480258436\n"
     ]
    }
   ],
   "source": [
    "#23\n",
    "# ensemble method - voting classifier\n",
    "\n",
    "from sklearn.ensemble import RandomForestClassifier, VotingClassifier\n",
    "\n",
    "# define models to train\n",
    "names = ['K Nearest Neighbors','Decision Tree','Random Forest','Logistic Regression','SGD Classifier','Naive Bayes','SVM Linear']\n",
    "\n",
    "#initialize our classifiers\n",
    "classifiers = [\n",
    "    KNeighborsClassifier(),\n",
    "    DecisionTreeClassifier(),\n",
    "    RandomForestClassifier(),\n",
    "    LogisticRegression(),\n",
    "    SGDClassifier(max_iter = 100),\n",
    "    MultinomialNB(),\n",
    "    SVC(kernel = 'linear')\n",
    "]\n",
    "\n",
    "models = list(zip(names,classifiers))\n",
    "\n",
    "nltk_ensemble = SklearnClassifier(VotingClassifier(estimators = models, voting = 'hard', n_jobs = -1))\n",
    "nltk_ensemble.train(training)\n",
    "accuracy = nltk.classify.accuracy(nltk_ensemble,testing)*100\n",
    "print('Ensemble Accuracy: {}'.format(accuracy))"
   ]
  },
  {
   "cell_type": "code",
   "execution_count": 36,
   "metadata": {},
   "outputs": [],
   "source": [
    "#24\n",
    "# make class label prediction for testing set\n",
    "txt_featuers , labels = zip(*testing)\n",
    "prediction = nltk_ensemble.classify_many(txt_featuers)"
   ]
  },
  {
   "cell_type": "code",
   "execution_count": 42,
   "metadata": {},
   "outputs": [
    {
     "name": "stdout",
     "output_type": "stream",
     "text": [
      "              precision    recall  f1-score   support\n",
      "\n",
      "           0       0.98      1.00      0.99      1204\n",
      "           1       0.99      0.89      0.94       189\n",
      "\n",
      "   micro avg       0.98      0.98      0.98      1393\n",
      "   macro avg       0.99      0.95      0.96      1393\n",
      "weighted avg       0.98      0.98      0.98      1393\n",
      "\n"
     ]
    },
    {
     "data": {
      "text/html": [
       "<div>\n",
       "<style scoped>\n",
       "    .dataframe tbody tr th:only-of-type {\n",
       "        vertical-align: middle;\n",
       "    }\n",
       "\n",
       "    .dataframe tbody tr th {\n",
       "        vertical-align: top;\n",
       "    }\n",
       "\n",
       "    .dataframe thead tr th {\n",
       "        text-align: left;\n",
       "    }\n",
       "</style>\n",
       "<table border=\"1\" class=\"dataframe\">\n",
       "  <thead>\n",
       "    <tr>\n",
       "      <th></th>\n",
       "      <th></th>\n",
       "      <th colspan=\"2\" halign=\"left\">predicted</th>\n",
       "    </tr>\n",
       "    <tr>\n",
       "      <th></th>\n",
       "      <th></th>\n",
       "      <th>ham</th>\n",
       "      <th>spam</th>\n",
       "    </tr>\n",
       "  </thead>\n",
       "  <tbody>\n",
       "    <tr>\n",
       "      <th rowspan=\"2\" valign=\"top\">actual</th>\n",
       "      <th>ham</th>\n",
       "      <td>1202</td>\n",
       "      <td>2</td>\n",
       "    </tr>\n",
       "    <tr>\n",
       "      <th>spam</th>\n",
       "      <td>20</td>\n",
       "      <td>169</td>\n",
       "    </tr>\n",
       "  </tbody>\n",
       "</table>\n",
       "</div>"
      ],
      "text/plain": [
       "            predicted     \n",
       "                  ham spam\n",
       "actual ham       1202    2\n",
       "       spam        20  169"
      ]
     },
     "execution_count": 42,
     "metadata": {},
     "output_type": "execute_result"
    }
   ],
   "source": [
    "#25\n",
    "# print a confusion matrix and classification report\n",
    "print(classification_report(labels , prediction))\n",
    "pd.DataFrame(\n",
    "    confusion_matrix(labels , prediction),\n",
    "    index = [['actual' , 'actual'] , ['ham' , 'spam']],\n",
    "    columns = [['predicted' , 'predicted'] , ['ham' , 'spam']]\n",
    ")"
   ]
  },
  {
   "cell_type": "code",
   "execution_count": null,
   "metadata": {},
   "outputs": [],
   "source": []
  }
 ],
 "metadata": {
  "kernelspec": {
   "display_name": "Python 3",
   "language": "python",
   "name": "python3"
  },
  "language_info": {
   "codemirror_mode": {
    "name": "ipython",
    "version": 3
   },
   "file_extension": ".py",
   "mimetype": "text/x-python",
   "name": "python",
   "nbconvert_exporter": "python",
   "pygments_lexer": "ipython3",
   "version": "3.7.1"
  }
 },
 "nbformat": 4,
 "nbformat_minor": 2
}
